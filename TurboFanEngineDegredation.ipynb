{
 "cells": [
  {
   "cell_type": "markdown",
   "metadata": {},
   "source": [
    "## Using MDH Command Line to Get Data\n",
    "First, we'll install the Machine Data Hub package\n",
    "- type `pip install mdh` into your terminal\n",
    "- type `mdh list` to view the datasets and their ID's\n",
    "- type `mdh download 9 1` to download the first file of the 9th dataset"
   ]
  },
  {
   "cell_type": "code",
   "execution_count": 1,
   "metadata": {},
   "outputs": [],
   "source": [
    "import pandas as pd\n",
    "import numpy as np"
   ]
  },
  {
   "cell_type": "code",
   "execution_count": 1,
   "metadata": {},
   "outputs": [
    {
     "name": "stdout",
     "output_type": "stream",
     "text": [
      "Data Set: FD001\n",
      "Train trjectories: 100\n",
      "Test trajectories: 100\n",
      "Conditions: ONE (Sea Level)\n",
      "Fault Modes: ONE (HPC Degradation)\n",
      "\n",
      "Data Set: FD002\n",
      "Train trjectories: 260\n",
      "Test trajectories: 259\n",
      "Conditions: SIX \n",
      "Fault Modes: ONE (HPC Degradation)\n",
      "\n",
      "Data Set: FD003\n",
      "Train trjectories: 100\n",
      "Test trajectories: 100\n",
      "Conditions: ONE (Sea Level)\n",
      "Fault Modes: TWO (HPC Degradation, Fan Degradation)\n",
      "\n",
      "Data Set: FD004\n",
      "Train trjectories: 248\n",
      "Test trajectories: 249\n",
      "Conditions: SIX \n",
      "Fault Modes: TWO (HPC Degradation, Fan Degradation)\n",
      "\n",
      "\n",
      "\n",
      "Experimental Scenario\n",
      "\n",
      "Data sets consists of multiple multivariate time series. Each data set is further divided into training and test subsets. Each time series is from a different engine  i.e., the data can be considered to be from a fleet of engines of the same type. Each engine starts with different degrees of initial wear and manufacturing variation which is unknown to the user. This wear and variation is considered normal, i.e., it is not considered a fault condition. There are three operational settings that have a substantial effect on engine performance. These settings are also included in the data. The data is contaminated with sensor noise.\n",
      "\n",
      "The engine is operating normally at the start of each time series, and develops a fault at some point during the series. In the training set, the fault grows in magnitude until system failure. In the test set, the time series ends some time prior to system failure. The objective of the competition is to predict the number of remaining operational cycles before failure in the test set, i.e., the number of operational cycles after the last cycle that the engine will continue to operate. Also provided a vector of true Remaining Useful Life (RUL) values for the test data.\n",
      "\n",
      "The data are provided as a zip-compressed text file with 26 columns of numbers, separated by spaces. Each row is a snapshot of data taken during a single operational cycle, each column is a different variable. The columns correspond to:\n",
      "1)\tunit number\n",
      "2)\ttime, in cycles\n",
      "3)\toperational setting 1\n",
      "4)\toperational setting 2\n",
      "5)\toperational setting 3\n",
      "6)\tsensor measurement  1\n",
      "7)\tsensor measurement  2\n",
      "...\n",
      "26)\tsensor measurement  26\n",
      "\n",
      "\n",
      "Reference: A. Saxena, K. Goebel, D. Simon, and N. Eklund, Damage Propagation Modeling for Aircraft Engine Run-to-Failure Simulation, in the Proceedings of the Ist International Conference on Prognostics and Health Management (PHM08), Denver CO, Oct 2008.\n",
      "\n"
     ]
    }
   ],
   "source": [
    "f = open('CMAPSSData/readme.txt', 'r', errors='ignore')\n",
    "file_contents = f.read()\n",
    "print(file_contents)\n",
    "f.close()"
   ]
  },
  {
   "cell_type": "markdown",
   "metadata": {},
   "source": [
    "## Training Data"
   ]
  },
  {
   "cell_type": "code",
   "execution_count": 1,
   "metadata": {},
   "outputs": [
    {
     "ename": "NameError",
     "evalue": "name 'pd' is not defined",
     "output_type": "error",
     "traceback": [
      "\u001b[0;31m---------------------------------------------------------------------------\u001b[0m",
      "\u001b[0;31mNameError\u001b[0m                                 Traceback (most recent call last)",
      "\u001b[0;32m<ipython-input-1-80e7ad8787ca>\u001b[0m in \u001b[0;36m<module>\u001b[0;34m\u001b[0m\n\u001b[0;32m----> 1\u001b[0;31m \u001b[0mtrain\u001b[0m \u001b[0;34m=\u001b[0m \u001b[0mpd\u001b[0m\u001b[0;34m.\u001b[0m\u001b[0mread_csv\u001b[0m\u001b[0;34m(\u001b[0m\u001b[0;34m'CMAPSSData/train_FD001.txt'\u001b[0m\u001b[0;34m,\u001b[0m \u001b[0msep\u001b[0m\u001b[0;34m=\u001b[0m\u001b[0;34m\" \"\u001b[0m\u001b[0;34m,\u001b[0m \u001b[0mheader\u001b[0m\u001b[0;34m=\u001b[0m\u001b[0;32mNone\u001b[0m\u001b[0;34m)\u001b[0m\u001b[0;34m\u001b[0m\u001b[0;34m\u001b[0m\u001b[0m\n\u001b[0m\u001b[1;32m      2\u001b[0m \u001b[0mtrain\u001b[0m\u001b[0;34m.\u001b[0m\u001b[0mcolumns\u001b[0m \u001b[0;34m=\u001b[0m \u001b[0;34m[\u001b[0m\u001b[0;34m'unit'\u001b[0m\u001b[0;34m,\u001b[0m \u001b[0;34m'cycle'\u001b[0m\u001b[0;34m,\u001b[0m \u001b[0;34m'op1'\u001b[0m\u001b[0;34m,\u001b[0m \u001b[0;34m'op2'\u001b[0m\u001b[0;34m,\u001b[0m\u001b[0;34m'op3'\u001b[0m\u001b[0;34m,\u001b[0m\u001b[0;34m'sm1'\u001b[0m\u001b[0;34m,\u001b[0m\u001b[0;34m'sm2'\u001b[0m\u001b[0;34m,\u001b[0m\u001b[0;34m'sm3'\u001b[0m\u001b[0;34m,\u001b[0m\u001b[0;34m'sm4'\u001b[0m\u001b[0;34m,\u001b[0m\u001b[0;34m'sm5'\u001b[0m\u001b[0;34m,\u001b[0m\u001b[0;34m'sm6'\u001b[0m\u001b[0;34m,\u001b[0m\u001b[0;34m'sm7'\u001b[0m\u001b[0;34m,\u001b[0m\u001b[0;34m'sm8'\u001b[0m\u001b[0;34m,\u001b[0m\u001b[0;34m'sm9'\u001b[0m\u001b[0;34m,\u001b[0m\u001b[0;34m'sm10'\u001b[0m\u001b[0;34m,\u001b[0m\u001b[0;34m'sm11'\u001b[0m\u001b[0;34m,\u001b[0m\u001b[0;34m'sm12'\u001b[0m\u001b[0;34m,\u001b[0m\u001b[0;34m'sm13'\u001b[0m\u001b[0;34m,\u001b[0m\u001b[0;34m'sm14'\u001b[0m\u001b[0;34m,\u001b[0m\u001b[0;34m'sm15'\u001b[0m\u001b[0;34m,\u001b[0m\u001b[0;34m'sm16'\u001b[0m\u001b[0;34m,\u001b[0m\u001b[0;34m'sm17'\u001b[0m\u001b[0;34m,\u001b[0m\u001b[0;34m'sm18'\u001b[0m\u001b[0;34m,\u001b[0m\u001b[0;34m'sm19'\u001b[0m\u001b[0;34m,\u001b[0m\u001b[0;34m'sm20'\u001b[0m\u001b[0;34m,\u001b[0m\u001b[0;34m'sm21'\u001b[0m\u001b[0;34m,\u001b[0m\u001b[0;34m'sm22'\u001b[0m\u001b[0;34m,\u001b[0m\u001b[0;34m'sm23'\u001b[0m\u001b[0;34m]\u001b[0m\u001b[0;34m\u001b[0m\u001b[0;34m\u001b[0m\u001b[0m\n\u001b[1;32m      3\u001b[0m \u001b[0mtrain\u001b[0m \u001b[0;34m=\u001b[0m \u001b[0mtrain\u001b[0m\u001b[0;34m.\u001b[0m\u001b[0miloc\u001b[0m\u001b[0;34m[\u001b[0m\u001b[0;34m:\u001b[0m\u001b[0;34m,\u001b[0m \u001b[0;34m:\u001b[0m\u001b[0;36m26\u001b[0m\u001b[0;34m]\u001b[0m\u001b[0;34m\u001b[0m\u001b[0;34m\u001b[0m\u001b[0m\n\u001b[1;32m      4\u001b[0m \u001b[0munits\u001b[0m \u001b[0;34m=\u001b[0m \u001b[0mtrain\u001b[0m\u001b[0;34m[\u001b[0m\u001b[0;34m'unit'\u001b[0m\u001b[0;34m]\u001b[0m\u001b[0;34m\u001b[0m\u001b[0;34m\u001b[0m\u001b[0m\n\u001b[1;32m      5\u001b[0m \u001b[0mtrain\u001b[0m\u001b[0;34m.\u001b[0m\u001b[0mhead\u001b[0m\u001b[0;34m(\u001b[0m\u001b[0;34m)\u001b[0m\u001b[0;34m\u001b[0m\u001b[0;34m\u001b[0m\u001b[0m\n",
      "\u001b[0;31mNameError\u001b[0m: name 'pd' is not defined"
     ]
    }
   ],
   "source": [
    "train = pd.read_csv('CMAPSSData/train_FD001.txt', sep=\" \", header=None)\n",
    "train.columns = ['unit', 'cycle', 'op1', 'op2','op3','sm1','sm2','sm3','sm4','sm5','sm6','sm7','sm8','sm9','sm10','sm11','sm12','sm13','sm14','sm15','sm16','sm17','sm18','sm19','sm20','sm21','sm22','sm23']\n",
    "train = train.iloc[:, :26]\n",
    "units = train['unit']"
   ]
  },
  {
   "cell_type": "markdown",
   "metadata": {},
   "source": [
    "## Remaining useful life for each unit"
   ]
  },
  {
   "cell_type": "code",
   "execution_count": 2,
   "metadata": {},
   "outputs": [
    {
     "ename": "NameError",
     "evalue": "name 'pd' is not defined",
     "output_type": "error",
     "traceback": [
      "\u001b[0;31m---------------------------------------------------------------------------\u001b[0m",
      "\u001b[0;31mNameError\u001b[0m                                 Traceback (most recent call last)",
      "\u001b[0;32m<ipython-input-2-02258799ecf6>\u001b[0m in \u001b[0;36m<module>\u001b[0;34m\u001b[0m\n\u001b[0;32m----> 1\u001b[0;31m \u001b[0mRUL\u001b[0m \u001b[0;34m=\u001b[0m \u001b[0mpd\u001b[0m\u001b[0;34m.\u001b[0m\u001b[0mread_csv\u001b[0m\u001b[0;34m(\u001b[0m\u001b[0;34m'CMAPSSData/RUL_FD001.txt'\u001b[0m\u001b[0;34m,\u001b[0m \u001b[0mheader\u001b[0m\u001b[0;34m=\u001b[0m\u001b[0;32mNone\u001b[0m\u001b[0;34m)\u001b[0m\u001b[0;34m\u001b[0m\u001b[0;34m\u001b[0m\u001b[0m\n\u001b[0m\u001b[1;32m      2\u001b[0m \u001b[0mRUL\u001b[0m\u001b[0;34m.\u001b[0m\u001b[0mcolumns\u001b[0m \u001b[0;34m=\u001b[0m \u001b[0;34m[\u001b[0m\u001b[0;34m'RUL'\u001b[0m\u001b[0;34m]\u001b[0m\u001b[0;34m\u001b[0m\u001b[0;34m\u001b[0m\u001b[0m\n",
      "\u001b[0;31mNameError\u001b[0m: name 'pd' is not defined"
     ]
    }
   ],
   "source": [
    "RUL = pd.read_csv('CMAPSSData/RUL_FD001.txt', header=None)\n",
    "RUL.columns = ['RUL']"
   ]
  },
  {
   "cell_type": "markdown",
   "metadata": {},
   "source": [
    "## Test Data"
   ]
  },
  {
   "cell_type": "code",
   "execution_count": 49,
   "metadata": {},
   "outputs": [
    {
     "data": {
      "text/html": [
       "<div>\n",
       "<style scoped>\n",
       "    .dataframe tbody tr th:only-of-type {\n",
       "        vertical-align: middle;\n",
       "    }\n",
       "\n",
       "    .dataframe tbody tr th {\n",
       "        vertical-align: top;\n",
       "    }\n",
       "\n",
       "    .dataframe thead th {\n",
       "        text-align: right;\n",
       "    }\n",
       "</style>\n",
       "<table border=\"1\" class=\"dataframe\">\n",
       "  <thead>\n",
       "    <tr style=\"text-align: right;\">\n",
       "      <th></th>\n",
       "      <th>unit</th>\n",
       "      <th>cycle</th>\n",
       "      <th>op1</th>\n",
       "      <th>op2</th>\n",
       "      <th>op3</th>\n",
       "      <th>sm1</th>\n",
       "      <th>sm2</th>\n",
       "      <th>sm3</th>\n",
       "      <th>sm4</th>\n",
       "      <th>sm5</th>\n",
       "      <th>...</th>\n",
       "      <th>sm12</th>\n",
       "      <th>sm13</th>\n",
       "      <th>sm14</th>\n",
       "      <th>sm15</th>\n",
       "      <th>sm16</th>\n",
       "      <th>sm17</th>\n",
       "      <th>sm18</th>\n",
       "      <th>sm19</th>\n",
       "      <th>sm20</th>\n",
       "      <th>sm21</th>\n",
       "    </tr>\n",
       "  </thead>\n",
       "  <tbody>\n",
       "    <tr>\n",
       "      <th>0</th>\n",
       "      <td>1</td>\n",
       "      <td>1</td>\n",
       "      <td>0.0023</td>\n",
       "      <td>0.0003</td>\n",
       "      <td>100.0</td>\n",
       "      <td>518.67</td>\n",
       "      <td>643.02</td>\n",
       "      <td>1585.29</td>\n",
       "      <td>1398.21</td>\n",
       "      <td>14.62</td>\n",
       "      <td>...</td>\n",
       "      <td>521.72</td>\n",
       "      <td>2388.03</td>\n",
       "      <td>8125.55</td>\n",
       "      <td>8.4052</td>\n",
       "      <td>0.03</td>\n",
       "      <td>392</td>\n",
       "      <td>2388</td>\n",
       "      <td>100.0</td>\n",
       "      <td>38.86</td>\n",
       "      <td>23.3735</td>\n",
       "    </tr>\n",
       "    <tr>\n",
       "      <th>1</th>\n",
       "      <td>1</td>\n",
       "      <td>2</td>\n",
       "      <td>-0.0027</td>\n",
       "      <td>-0.0003</td>\n",
       "      <td>100.0</td>\n",
       "      <td>518.67</td>\n",
       "      <td>641.71</td>\n",
       "      <td>1588.45</td>\n",
       "      <td>1395.42</td>\n",
       "      <td>14.62</td>\n",
       "      <td>...</td>\n",
       "      <td>522.16</td>\n",
       "      <td>2388.06</td>\n",
       "      <td>8139.62</td>\n",
       "      <td>8.3803</td>\n",
       "      <td>0.03</td>\n",
       "      <td>393</td>\n",
       "      <td>2388</td>\n",
       "      <td>100.0</td>\n",
       "      <td>39.02</td>\n",
       "      <td>23.3916</td>\n",
       "    </tr>\n",
       "    <tr>\n",
       "      <th>2</th>\n",
       "      <td>1</td>\n",
       "      <td>3</td>\n",
       "      <td>0.0003</td>\n",
       "      <td>0.0001</td>\n",
       "      <td>100.0</td>\n",
       "      <td>518.67</td>\n",
       "      <td>642.46</td>\n",
       "      <td>1586.94</td>\n",
       "      <td>1401.34</td>\n",
       "      <td>14.62</td>\n",
       "      <td>...</td>\n",
       "      <td>521.97</td>\n",
       "      <td>2388.03</td>\n",
       "      <td>8130.10</td>\n",
       "      <td>8.4441</td>\n",
       "      <td>0.03</td>\n",
       "      <td>393</td>\n",
       "      <td>2388</td>\n",
       "      <td>100.0</td>\n",
       "      <td>39.08</td>\n",
       "      <td>23.4166</td>\n",
       "    </tr>\n",
       "    <tr>\n",
       "      <th>3</th>\n",
       "      <td>1</td>\n",
       "      <td>4</td>\n",
       "      <td>0.0042</td>\n",
       "      <td>0.0000</td>\n",
       "      <td>100.0</td>\n",
       "      <td>518.67</td>\n",
       "      <td>642.44</td>\n",
       "      <td>1584.12</td>\n",
       "      <td>1406.42</td>\n",
       "      <td>14.62</td>\n",
       "      <td>...</td>\n",
       "      <td>521.38</td>\n",
       "      <td>2388.05</td>\n",
       "      <td>8132.90</td>\n",
       "      <td>8.3917</td>\n",
       "      <td>0.03</td>\n",
       "      <td>391</td>\n",
       "      <td>2388</td>\n",
       "      <td>100.0</td>\n",
       "      <td>39.00</td>\n",
       "      <td>23.3737</td>\n",
       "    </tr>\n",
       "    <tr>\n",
       "      <th>4</th>\n",
       "      <td>1</td>\n",
       "      <td>5</td>\n",
       "      <td>0.0014</td>\n",
       "      <td>0.0000</td>\n",
       "      <td>100.0</td>\n",
       "      <td>518.67</td>\n",
       "      <td>642.51</td>\n",
       "      <td>1587.19</td>\n",
       "      <td>1401.92</td>\n",
       "      <td>14.62</td>\n",
       "      <td>...</td>\n",
       "      <td>522.15</td>\n",
       "      <td>2388.03</td>\n",
       "      <td>8129.54</td>\n",
       "      <td>8.4031</td>\n",
       "      <td>0.03</td>\n",
       "      <td>390</td>\n",
       "      <td>2388</td>\n",
       "      <td>100.0</td>\n",
       "      <td>38.99</td>\n",
       "      <td>23.4130</td>\n",
       "    </tr>\n",
       "  </tbody>\n",
       "</table>\n",
       "<p>5 rows × 26 columns</p>\n",
       "</div>"
      ],
      "text/plain": [
       "   unit  cycle     op1     op2    op3     sm1     sm2      sm3      sm4  \\\n",
       "0     1      1  0.0023  0.0003  100.0  518.67  643.02  1585.29  1398.21   \n",
       "1     1      2 -0.0027 -0.0003  100.0  518.67  641.71  1588.45  1395.42   \n",
       "2     1      3  0.0003  0.0001  100.0  518.67  642.46  1586.94  1401.34   \n",
       "3     1      4  0.0042  0.0000  100.0  518.67  642.44  1584.12  1406.42   \n",
       "4     1      5  0.0014  0.0000  100.0  518.67  642.51  1587.19  1401.92   \n",
       "\n",
       "     sm5  ...    sm12     sm13     sm14    sm15  sm16  sm17  sm18   sm19  \\\n",
       "0  14.62  ...  521.72  2388.03  8125.55  8.4052  0.03   392  2388  100.0   \n",
       "1  14.62  ...  522.16  2388.06  8139.62  8.3803  0.03   393  2388  100.0   \n",
       "2  14.62  ...  521.97  2388.03  8130.10  8.4441  0.03   393  2388  100.0   \n",
       "3  14.62  ...  521.38  2388.05  8132.90  8.3917  0.03   391  2388  100.0   \n",
       "4  14.62  ...  522.15  2388.03  8129.54  8.4031  0.03   390  2388  100.0   \n",
       "\n",
       "    sm20     sm21  \n",
       "0  38.86  23.3735  \n",
       "1  39.02  23.3916  \n",
       "2  39.08  23.4166  \n",
       "3  39.00  23.3737  \n",
       "4  38.99  23.4130  \n",
       "\n",
       "[5 rows x 26 columns]"
      ]
     },
     "execution_count": 49,
     "metadata": {},
     "output_type": "execute_result"
    }
   ],
   "source": [
    "test = pd.read_csv('CMAPSSData/test_FD001.txt', sep=\" \", header=None)\n",
    "cols = pd.DataFrame(test.columns)\n",
    "test = test.iloc[:, :26]\n",
    "test.columns = ['unit', 'cycle', 'op1', 'op2','op3','sm1','sm2','sm3','sm4','sm5','sm6','sm7','sm8','sm9','sm10','sm11','sm12','sm13','sm14','sm15','sm16','sm17','sm18','sm19','sm20','sm21']"
   ]
  },
  {
   "cell_type": "markdown",
   "metadata": {},
   "source": [
    "# Data Processing"
   ]
  },
  {
   "cell_type": "code",
   "execution_count": 50,
   "metadata": {},
   "outputs": [
    {
     "data": {
      "text/plain": [
       "(362, 128, 206.31)"
      ]
     },
     "execution_count": 50,
     "metadata": {},
     "output_type": "execute_result"
    }
   ],
   "source": [
    "max_life = max(train.groupby(\"unit\")[\"cycle\"].max())\n",
    "min_life = min(train.groupby(\"unit\")[\"cycle\"].max())\n",
    "mean_life = np.mean(train.groupby(\"unit\")[\"cycle\"].max())\n",
    "max_life,min_life,mean_life"
   ]
  },
  {
   "cell_type": "markdown",
   "metadata": {},
   "source": [
    "## Setting up X and y in training and testing data\n",
    "#### Setting up Remaining Useful Life variable (y)"
   ]
  },
  {
   "cell_type": "code",
   "execution_count": 51,
   "metadata": {},
   "outputs": [],
   "source": [
    "## reversing remaining useful life column so that it counts down until failure\n",
    "grp = train[\"cycle\"].groupby(train[\"unit\"])\n",
    "rul_lst = [j for i in train[\"unit\"].unique() for j in np.array(grp.get_group(i)[::-1])] # can be used as y or target for training"
   ]
  },
  {
   "cell_type": "markdown",
   "metadata": {},
   "source": [
    "#### Setting up sensor measurements (X)"
   ]
  },
  {
   "cell_type": "code",
   "execution_count": 52,
   "metadata": {},
   "outputs": [],
   "source": [
    "# getting all columns except target RUL column as X\n",
    "train_x = train.drop(\"cycle\", axis=1)\n",
    "test_x = test.drop(\"cycle\", axis=1)"
   ]
  },
  {
   "cell_type": "markdown",
   "metadata": {},
   "source": [
    "## Applying Principal Component Analysis"
   ]
  },
  {
   "cell_type": "code",
   "execution_count": 53,
   "metadata": {},
   "outputs": [],
   "source": [
    "from sklearn.decomposition import PCA\n",
    "from sklearn.preprocessing import MinMaxScaler\n",
    "from sklearn.preprocessing import PowerTransformer\n",
    "from sklearn.model_selection import train_test_split, cross_val_score"
   ]
  },
  {
   "cell_type": "code",
   "execution_count": 54,
   "metadata": {},
   "outputs": [],
   "source": [
    "# fitting PCA on training data, transforming training and testing data\n",
    "\n",
    "# setting index to be unit so unit is not used as a column in PCA\n",
    "train_data = train_x.set_index(\"unit\")\n",
    "test_data = test_x.set_index(\"unit\")\n",
    "\n",
    "# scaling the data\n",
    "gen = MinMaxScaler(feature_range=(0, 1))\n",
    "train_x_rescaled = gen.fit_transform(train_data)\n",
    "test_x_rescaled = gen.transform(test_data)\n",
    "\n",
    "# PCA\n",
    "pca = PCA(n_components=0.95) # 95% of variance\n",
    "train_data_reduced = pca.fit_transform(train_x_rescaled)\n",
    "test_data_reduced = pca.transform(test_x_rescaled)\n",
    "\n",
    "# save results as dataframes\n",
    "train_df = pd.DataFrame(train_data_reduced)\n",
    "test_df = pd.DataFrame(test_data_reduced)"
   ]
  },
  {
   "cell_type": "markdown",
   "metadata": {},
   "source": [
    "## Making Complete Dataframe"
   ]
  },
  {
   "cell_type": "code",
   "execution_count": 55,
   "metadata": {},
   "outputs": [
    {
     "data": {
      "text/html": [
       "<div>\n",
       "<style scoped>\n",
       "    .dataframe tbody tr th:only-of-type {\n",
       "        vertical-align: middle;\n",
       "    }\n",
       "\n",
       "    .dataframe tbody tr th {\n",
       "        vertical-align: top;\n",
       "    }\n",
       "\n",
       "    .dataframe thead th {\n",
       "        text-align: right;\n",
       "    }\n",
       "</style>\n",
       "<table border=\"1\" class=\"dataframe\">\n",
       "  <thead>\n",
       "    <tr style=\"text-align: right;\">\n",
       "      <th></th>\n",
       "      <th>Unit</th>\n",
       "      <th>RUL</th>\n",
       "      <th>0</th>\n",
       "      <th>1</th>\n",
       "      <th>2</th>\n",
       "      <th>3</th>\n",
       "      <th>4</th>\n",
       "      <th>5</th>\n",
       "      <th>6</th>\n",
       "      <th>7</th>\n",
       "      <th>8</th>\n",
       "      <th>9</th>\n",
       "      <th>10</th>\n",
       "    </tr>\n",
       "  </thead>\n",
       "  <tbody>\n",
       "    <tr>\n",
       "      <th>0</th>\n",
       "      <td>1</td>\n",
       "      <td>192</td>\n",
       "      <td>-0.410290</td>\n",
       "      <td>0.329588</td>\n",
       "      <td>-0.062926</td>\n",
       "      <td>-0.034272</td>\n",
       "      <td>0.039837</td>\n",
       "      <td>0.150101</td>\n",
       "      <td>-0.061206</td>\n",
       "      <td>-0.044378</td>\n",
       "      <td>-0.039456</td>\n",
       "      <td>0.066469</td>\n",
       "      <td>0.060335</td>\n",
       "    </tr>\n",
       "    <tr>\n",
       "      <th>1</th>\n",
       "      <td>1</td>\n",
       "      <td>191</td>\n",
       "      <td>-0.334079</td>\n",
       "      <td>0.245318</td>\n",
       "      <td>-0.083213</td>\n",
       "      <td>-0.020121</td>\n",
       "      <td>-0.109669</td>\n",
       "      <td>0.088208</td>\n",
       "      <td>-0.113706</td>\n",
       "      <td>-0.072674</td>\n",
       "      <td>-0.013043</td>\n",
       "      <td>0.068331</td>\n",
       "      <td>0.007763</td>\n",
       "    </tr>\n",
       "    <tr>\n",
       "      <th>2</th>\n",
       "      <td>1</td>\n",
       "      <td>190</td>\n",
       "      <td>-0.415501</td>\n",
       "      <td>-0.251669</td>\n",
       "      <td>-0.054831</td>\n",
       "      <td>-0.033593</td>\n",
       "      <td>0.246061</td>\n",
       "      <td>-0.010257</td>\n",
       "      <td>-0.056753</td>\n",
       "      <td>0.078662</td>\n",
       "      <td>0.145056</td>\n",
       "      <td>0.057986</td>\n",
       "      <td>0.003087</td>\n",
       "    </tr>\n",
       "    <tr>\n",
       "      <th>3</th>\n",
       "      <td>1</td>\n",
       "      <td>189</td>\n",
       "      <td>-0.517311</td>\n",
       "      <td>-0.005695</td>\n",
       "      <td>-0.087794</td>\n",
       "      <td>-0.027715</td>\n",
       "      <td>-0.042761</td>\n",
       "      <td>-0.058995</td>\n",
       "      <td>0.027378</td>\n",
       "      <td>0.043045</td>\n",
       "      <td>0.011939</td>\n",
       "      <td>-0.166043</td>\n",
       "      <td>-0.041628</td>\n",
       "    </tr>\n",
       "    <tr>\n",
       "      <th>4</th>\n",
       "      <td>1</td>\n",
       "      <td>188</td>\n",
       "      <td>-0.345767</td>\n",
       "      <td>0.164130</td>\n",
       "      <td>-0.043195</td>\n",
       "      <td>-0.036834</td>\n",
       "      <td>0.104798</td>\n",
       "      <td>-0.030646</td>\n",
       "      <td>0.082129</td>\n",
       "      <td>-0.092327</td>\n",
       "      <td>-0.030043</td>\n",
       "      <td>0.006404</td>\n",
       "      <td>-0.026205</td>\n",
       "    </tr>\n",
       "  </tbody>\n",
       "</table>\n",
       "</div>"
      ],
      "text/plain": [
       "   Unit  RUL         0         1         2         3         4         5  \\\n",
       "0     1  192 -0.410290  0.329588 -0.062926 -0.034272  0.039837  0.150101   \n",
       "1     1  191 -0.334079  0.245318 -0.083213 -0.020121 -0.109669  0.088208   \n",
       "2     1  190 -0.415501 -0.251669 -0.054831 -0.033593  0.246061 -0.010257   \n",
       "3     1  189 -0.517311 -0.005695 -0.087794 -0.027715 -0.042761 -0.058995   \n",
       "4     1  188 -0.345767  0.164130 -0.043195 -0.036834  0.104798 -0.030646   \n",
       "\n",
       "          6         7         8         9        10  \n",
       "0 -0.061206 -0.044378 -0.039456  0.066469  0.060335  \n",
       "1 -0.113706 -0.072674 -0.013043  0.068331  0.007763  \n",
       "2 -0.056753  0.078662  0.145056  0.057986  0.003087  \n",
       "3  0.027378  0.043045  0.011939 -0.166043 -0.041628  \n",
       "4  0.082129 -0.092327 -0.030043  0.006404 -0.026205  "
      ]
     },
     "execution_count": 55,
     "metadata": {},
     "output_type": "execute_result"
    }
   ],
   "source": [
    "# making dataframe with unit, RUL counting down instead of up, and PCA features\n",
    "train_df.insert(0, \"Unit\", units, True)\n",
    "train_df.insert(1, \"RUL\", rul_lst, True)\n",
    "train_df.head()"
   ]
  },
  {
   "cell_type": "markdown",
   "metadata": {},
   "source": [
    "## Splitting into Train and Validate Sets\n"
   ]
  },
  {
   "cell_type": "code",
   "execution_count": 56,
   "metadata": {},
   "outputs": [],
   "source": [
    "import random"
   ]
  },
  {
   "cell_type": "code",
   "execution_count": 57,
   "metadata": {},
   "outputs": [],
   "source": [
    "unique_units = train_df[\"Unit\"].unique().tolist()\n",
    "np.random.seed(200)\n",
    "random.shuffle(unique_units)\n",
    "train_units = unique_units[:80]\n",
    "val_units = unique_units[80:]"
   ]
  },
  {
   "cell_type": "code",
   "execution_count": 58,
   "metadata": {},
   "outputs": [],
   "source": [
    "X = train_df.iloc[:,train_df.columns != 'RUL']\n",
    "y = train_df[[\"Unit\", \"RUL\"]]\n",
    "\n",
    "# splitting into train and test data based on units rather than random split\n",
    "X_train = X[X['Unit'].isin(train_units)] # getting first 80 units\n",
    "X_validate = X[X['Unit'].isin(val_units)] # getting last 20 units\n",
    "y_train = y[y['Unit'].isin(train_units)][\"RUL\"] # getting first 80 units\n",
    "y_validate = y[y['Unit'].isin(val_units)][\"RUL\"] # getting last 20 units\n",
    "\n",
    "X_train = X_train.set_index('Unit')\n",
    "X_validate = X_validate.set_index('Unit')"
   ]
  },
  {
   "cell_type": "markdown",
   "metadata": {},
   "source": [
    "# Making Predictions"
   ]
  },
  {
   "cell_type": "markdown",
   "metadata": {},
   "source": [
    "## Linear Regression Model"
   ]
  },
  {
   "cell_type": "code",
   "execution_count": 59,
   "metadata": {},
   "outputs": [],
   "source": [
    "from sklearn.linear_model import LinearRegression\n",
    "from sklearn.metrics import r2_score, mean_squared_error\n",
    "import matplotlib.pyplot as plt"
   ]
  },
  {
   "cell_type": "markdown",
   "metadata": {},
   "source": [
    "### Fitting the model"
   ]
  },
  {
   "cell_type": "code",
   "execution_count": 60,
   "metadata": {},
   "outputs": [],
   "source": [
    "reg = LinearRegression()\n",
    "reg.fit(X_train, y_train)\n",
    "y_hat = reg.predict(X_validate)"
   ]
  },
  {
   "cell_type": "markdown",
   "metadata": {},
   "source": [
    "### Assessing Performance"
   ]
  },
  {
   "cell_type": "code",
   "execution_count": 62,
   "metadata": {},
   "outputs": [
    {
     "name": "stdout",
     "output_type": "stream",
     "text": [
      "Training Cross Validation Score:  [0.65181542 0.60621829 0.56514893 0.52319301 0.51774096]\n",
      "Validation Cross Validation Score:  [0.72617618 0.42561359 0.30175429 0.70016344 0.42958844]\n",
      "Validation R^2:  0.5254642642582465\n",
      "Validation MSE:  2437.895634893165\n"
     ]
    }
   ],
   "source": [
    "print('Training Cross Validation Score: ', cross_val_score(reg, X_train, y_train, cv=5))\n",
    "print('Validation Cross Validation Score: ', cross_val_score(reg, X_validate, y_validate, cv=5))\n",
    "print('Validation R^2: ', r2_score(y_validate, y_hat))\n",
    "print('Validation MSE: ', mean_squared_error(y_validate, y_hat))"
   ]
  },
  {
   "cell_type": "markdown",
   "metadata": {},
   "source": [
    "### Plotting Predicted vs True Values"
   ]
  },
  {
   "cell_type": "code",
   "execution_count": 63,
   "metadata": {},
   "outputs": [
    {
     "data": {
      "image/png": "[encoded data removed]",
      "text/plain": [
       "<Figure size 432x288 with 1 Axes>"
      ]
     },
     "metadata": {
      "needs_background": "light"
     },
     "output_type": "display_data"
    }
   ],
   "source": [
    "_ = plt.scatter(y_hat, y_validate)\n",
    "_ = plt.plot([0, 350], [0, 350], \"r\")\n",
    "_ = plt.xlabel(\"Predicted Remaining Useful Life\")\n",
    "_ = plt.ylabel(\"True Remaining Useful Life\")"
   ]
  },
  {
   "cell_type": "code",
   "execution_count": 64,
   "metadata": {},
   "outputs": [],
   "source": [
    "log_y_train = np.log(y_train)\n",
    "log_y_validate = np.log(y_validate)\n",
    "reg.fit(X_train, log_y_train)\n",
    "y_hat = reg.predict(X_validate)\n",
    "#log_y_train.isna().sum()"
   ]
  },
  {
   "cell_type": "code",
   "execution_count": 65,
   "metadata": {},
   "outputs": [
    {
     "name": "stdout",
     "output_type": "stream",
     "text": [
      "Training Cross Validation Score:  [0.65181542 0.60621829 0.56514893 0.52319301 0.51774096]\n",
      "Validation Cross Validation Score:  [0.86189994 0.57916562 0.62127333 0.84606404 0.71891191]\n",
      "Validation R^2:  0.7119259657778766\n",
      "Validation MSE:  0.2747472045111408\n"
     ]
    }
   ],
   "source": [
    "print('Training Cross Validation Score: ', cross_val_score(reg, X_train, y_train, cv=5))\n",
    "print('Validation Cross Validation Score: ', cross_val_score(reg, X_validate, log_y_validate, cv=5))\n",
    "print('Validation R^2: ', r2_score(log_y_validate, y_hat))\n",
    "print('Validation MSE: ', mean_squared_error(log_y_validate, y_hat))"
   ]
  },
  {
   "cell_type": "code",
   "execution_count": 66,
   "metadata": {},
   "outputs": [
    {
     "data": {
      "image/png": "[encoded data removed]",
      "text/plain": [
       "<Figure size 432x288 with 1 Axes>"
      ]
     },
     "metadata": {
      "needs_background": "light"
     },
     "output_type": "display_data"
    }
   ],
   "source": [
    "_ = plt.scatter(y_hat, log_y_validate)\n",
    "_ = plt.plot([0, 6], [0, 6], \"r\")\n",
    "_ = plt.xlabel(\"Predicted Log of Remaining Useful Life\")\n",
    "_ = plt.ylabel(\"True Log of Remaining Useful Life\")"
   ]
  },
  {
   "cell_type": "markdown",
   "metadata": {},
   "source": [
    "## Decision Tree Regressor\n",
    "### Fitting the model"
   ]
  },
  {
   "cell_type": "code",
   "execution_count": 67,
   "metadata": {},
   "outputs": [],
   "source": [
    "# trying decision tree regressor\n",
    "from sklearn.tree import DecisionTreeRegressor\n",
    "\n",
    "dt_reg = DecisionTreeRegressor()\n",
    "dt_reg.fit(X_train, y_train)\n",
    "y_hat = dt_reg.predict(X_validate)"
   ]
  },
  {
   "cell_type": "markdown",
   "metadata": {},
   "source": [
    "### Assessing Performance"
   ]
  },
  {
   "cell_type": "code",
   "execution_count": 68,
   "metadata": {},
   "outputs": [
    {
     "name": "stdout",
     "output_type": "stream",
     "text": [
      "Training Cross Validation Score:  [0.3314608  0.03284172 0.17224829 0.25248153 0.28469372]\n",
      "Validation Cross Validation Score:  [ 0.21143813  0.00097633 -0.03242251  0.25507367 -0.23748143]\n",
      "Validation R^2:  0.15272460204742866\n",
      "Validation MSE:  4352.820743820744\n"
     ]
    }
   ],
   "source": [
    "print('Training Cross Validation Score: ', cross_val_score(dt_reg, X_train, y_train, cv=5))\n",
    "print('Validation Cross Validation Score: ', cross_val_score(dt_reg, X_validate, y_validate, cv=5))\n",
    "print('Validation R^2: ', r2_score(y_validate, y_hat))\n",
    "print('Validation MSE: ', mean_squared_error(y_validate, y_hat))"
   ]
  },
  {
   "cell_type": "markdown",
   "metadata": {},
   "source": [
    "### Plotting Predicted vs True Values"
   ]
  },
  {
   "cell_type": "code",
   "execution_count": 69,
   "metadata": {},
   "outputs": [
    {
     "data": {
      "image/png": "[encoded data removed]",
      "text/plain": [
       "<Figure size 432x288 with 1 Axes>"
      ]
     },
     "metadata": {
      "needs_background": "light"
     },
     "output_type": "display_data"
    }
   ],
   "source": [
    "_ = plt.scatter(y_hat, y_validate)\n",
    "_ = plt.plot([0, 350], [0, 350], \"r\")\n",
    "_ = plt.xlabel(\"Predicted Remaining Useful Life\")\n",
    "_ = plt.ylabel(\"True Remaining Useful Life\")"
   ]
  },
  {
   "cell_type": "code",
   "execution_count": 70,
   "metadata": {},
   "outputs": [
    {
     "name": "stdout",
     "output_type": "stream",
     "text": [
      "Training Cross Validation Score:  [0.77366425 0.7180512  0.73196486 0.68458347 0.67246177]\n",
      "Validation Cross Validation Score:  [0.72003447 0.55813942 0.4954202  0.74433481 0.60379024]\n",
      "Validation R^2:  0.680685900000316\n",
      "Validation MSE:  0.3045420479245905\n"
     ]
    },
    {
     "data": {
      "image/png": "[encoded data removed]",
      "text/plain": [
       "<Figure size 432x288 with 1 Axes>"
      ]
     },
     "metadata": {
      "needs_background": "light"
     },
     "output_type": "display_data"
    }
   ],
   "source": [
    "dt_reg.fit(X_train, log_y_train)\n",
    "y_hat = dt_reg.predict(X_validate)\n",
    "print('Training Cross Validation Score: ', cross_val_score(dt_reg, X_train, log_y_train, cv=5))\n",
    "print('Validation Cross Validation Score: ', cross_val_score(dt_reg, X_validate, log_y_validate, cv=5))\n",
    "print('Validation R^2: ', r2_score(log_y_validate, y_hat))\n",
    "print('Validation MSE: ', mean_squared_error(log_y_validate, y_hat))\n",
    "_ = plt.scatter(y_hat, log_y_validate)\n",
    "_ = plt.plot([0, 6], [0, 6], \"r\")\n",
    "_ = plt.xlabel(\"Predicted Log of Remaining Useful Life\")\n",
    "_ = plt.ylabel(\"True Log of Remaining Useful Life\")"
   ]
  },
  {
   "cell_type": "markdown",
   "metadata": {},
   "source": [
    "## K-Nearest Neighbors Regressor\n",
    "### Fitting the Model"
   ]
  },
  {
   "cell_type": "code",
   "execution_count": 71,
   "metadata": {},
   "outputs": [],
   "source": [
    "from sklearn.neighbors import KNeighborsRegressor"
   ]
  },
  {
   "cell_type": "code",
   "execution_count": 72,
   "metadata": {},
   "outputs": [],
   "source": [
    "kn_reg = DecisionTreeRegressor()\n",
    "kn_reg.fit(X_train, y_train)\n",
    "y_hat = kn_reg.predict(X_validate)"
   ]
  },
  {
   "cell_type": "markdown",
   "metadata": {},
   "source": [
    "### Assessing Performance"
   ]
  },
  {
   "cell_type": "code",
   "execution_count": 73,
   "metadata": {},
   "outputs": [
    {
     "name": "stdout",
     "output_type": "stream",
     "text": [
      "Training Cross Validation Score:  [0.33669568 0.06067125 0.19325714 0.25780171 0.29606065]\n",
      "Validation Cross Validation Score:  [ 0.19072975 -0.01737705 -0.04616889  0.28963416 -0.31215523]\n",
      "Validation R^2:  0.132442225711644\n",
      "Validation MSE:  4457.020097020097\n"
     ]
    }
   ],
   "source": [
    "print('Training Cross Validation Score: ', cross_val_score(kn_reg, X_train, y_train, cv=5))\n",
    "print('Validation Cross Validation Score: ', cross_val_score(kn_reg, X_validate, y_validate, cv=5))\n",
    "print('Validation R^2: ', r2_score(y_validate, y_hat))\n",
    "print('Validation MSE: ', mean_squared_error(y_validate, y_hat))"
   ]
  },
  {
   "cell_type": "markdown",
   "metadata": {},
   "source": [
    "### Plotting Predicted vs True Values"
   ]
  },
  {
   "cell_type": "code",
   "execution_count": 74,
   "metadata": {},
   "outputs": [
    {
     "data": {
      "image/png": "[encoded data removed]",
      "text/plain": [
       "<Figure size 432x288 with 1 Axes>"
      ]
     },
     "metadata": {
      "needs_background": "light"
     },
     "output_type": "display_data"
    }
   ],
   "source": [
    "_ = plt.scatter(y_hat, y_validate)\n",
    "_ = plt.plot([0, 350], [0, 350], \"r\")\n",
    "_ = plt.xlabel(\"Predicted Remaining Useful Life\")\n",
    "_ = plt.ylabel(\"True Remaining Useful Life\")"
   ]
  },
  {
   "cell_type": "code",
   "execution_count": 75,
   "metadata": {},
   "outputs": [
    {
     "name": "stdout",
     "output_type": "stream",
     "text": [
      "Training Cross Validation Score:  [0.77184865 0.71060796 0.73260798 0.68050613 0.67374973]\n",
      "Validation Cross Validation Score:  [0.72126975 0.55465672 0.50704406 0.7478887  0.59853228]\n",
      "Validation R^2:  0.6802101443785232\n",
      "Validation MSE:  0.3049957942244644\n"
     ]
    },
    {
     "data": {
      "image/png": "[encoded data removed]",
      "text/plain": [
       "<Figure size 432x288 with 1 Axes>"
      ]
     },
     "metadata": {
      "needs_background": "light"
     },
     "output_type": "display_data"
    }
   ],
   "source": [
    "kn_reg.fit(X_train, log_y_train)\n",
    "y_hat = kn_reg.predict(X_validate)\n",
    "print('Training Cross Validation Score: ', cross_val_score(dt_reg, X_train, log_y_train, cv=5))\n",
    "print('Validation Cross Validation Score: ', cross_val_score(dt_reg, X_validate, log_y_validate, cv=5))\n",
    "print('Validation R^2: ', r2_score(log_y_validate, y_hat))\n",
    "print('Validation MSE: ', mean_squared_error(log_y_validate, y_hat))\n",
    "_ = plt.scatter(y_hat, log_y_validate)\n",
    "_ = plt.plot([0, 6], [0, 6], \"r\")\n",
    "_ = plt.xlabel(\"Predicted Log of Remaining Useful Life\")\n",
    "_ = plt.ylabel(\"True Log of Remaining Useful Life\")"
   ]
  },
  {
   "cell_type": "markdown",
   "metadata": {},
   "source": [
    "# Trying Our Model On Test Data"
   ]
  },
  {
   "cell_type": "code",
   "execution_count": 86,
   "metadata": {},
   "outputs": [
    {
     "data": {
      "text/html": [
       "<div>\n",
       "<style scoped>\n",
       "    .dataframe tbody tr th:only-of-type {\n",
       "        vertical-align: middle;\n",
       "    }\n",
       "\n",
       "    .dataframe tbody tr th {\n",
       "        vertical-align: top;\n",
       "    }\n",
       "\n",
       "    .dataframe thead th {\n",
       "        text-align: right;\n",
       "    }\n",
       "</style>\n",
       "<table border=\"1\" class=\"dataframe\">\n",
       "  <thead>\n",
       "    <tr style=\"text-align: right;\">\n",
       "      <th></th>\n",
       "      <th>unit</th>\n",
       "      <th>cycle</th>\n",
       "      <th>op1</th>\n",
       "      <th>op2</th>\n",
       "      <th>op3</th>\n",
       "      <th>sm1</th>\n",
       "      <th>sm2</th>\n",
       "      <th>sm3</th>\n",
       "      <th>sm4</th>\n",
       "      <th>sm5</th>\n",
       "      <th>...</th>\n",
       "      <th>sm12</th>\n",
       "      <th>sm13</th>\n",
       "      <th>sm14</th>\n",
       "      <th>sm15</th>\n",
       "      <th>sm16</th>\n",
       "      <th>sm17</th>\n",
       "      <th>sm18</th>\n",
       "      <th>sm19</th>\n",
       "      <th>sm20</th>\n",
       "      <th>sm21</th>\n",
       "    </tr>\n",
       "  </thead>\n",
       "  <tbody>\n",
       "    <tr>\n",
       "      <th>0</th>\n",
       "      <td>1</td>\n",
       "      <td>1</td>\n",
       "      <td>0.0023</td>\n",
       "      <td>0.0003</td>\n",
       "      <td>100.0</td>\n",
       "      <td>518.67</td>\n",
       "      <td>643.02</td>\n",
       "      <td>1585.29</td>\n",
       "      <td>1398.21</td>\n",
       "      <td>14.62</td>\n",
       "      <td>...</td>\n",
       "      <td>521.72</td>\n",
       "      <td>2388.03</td>\n",
       "      <td>8125.55</td>\n",
       "      <td>8.4052</td>\n",
       "      <td>0.03</td>\n",
       "      <td>392</td>\n",
       "      <td>2388</td>\n",
       "      <td>100.0</td>\n",
       "      <td>38.86</td>\n",
       "      <td>23.3735</td>\n",
       "    </tr>\n",
       "    <tr>\n",
       "      <th>1</th>\n",
       "      <td>1</td>\n",
       "      <td>2</td>\n",
       "      <td>-0.0027</td>\n",
       "      <td>-0.0003</td>\n",
       "      <td>100.0</td>\n",
       "      <td>518.67</td>\n",
       "      <td>641.71</td>\n",
       "      <td>1588.45</td>\n",
       "      <td>1395.42</td>\n",
       "      <td>14.62</td>\n",
       "      <td>...</td>\n",
       "      <td>522.16</td>\n",
       "      <td>2388.06</td>\n",
       "      <td>8139.62</td>\n",
       "      <td>8.3803</td>\n",
       "      <td>0.03</td>\n",
       "      <td>393</td>\n",
       "      <td>2388</td>\n",
       "      <td>100.0</td>\n",
       "      <td>39.02</td>\n",
       "      <td>23.3916</td>\n",
       "    </tr>\n",
       "    <tr>\n",
       "      <th>2</th>\n",
       "      <td>1</td>\n",
       "      <td>3</td>\n",
       "      <td>0.0003</td>\n",
       "      <td>0.0001</td>\n",
       "      <td>100.0</td>\n",
       "      <td>518.67</td>\n",
       "      <td>642.46</td>\n",
       "      <td>1586.94</td>\n",
       "      <td>1401.34</td>\n",
       "      <td>14.62</td>\n",
       "      <td>...</td>\n",
       "      <td>521.97</td>\n",
       "      <td>2388.03</td>\n",
       "      <td>8130.10</td>\n",
       "      <td>8.4441</td>\n",
       "      <td>0.03</td>\n",
       "      <td>393</td>\n",
       "      <td>2388</td>\n",
       "      <td>100.0</td>\n",
       "      <td>39.08</td>\n",
       "      <td>23.4166</td>\n",
       "    </tr>\n",
       "    <tr>\n",
       "      <th>3</th>\n",
       "      <td>1</td>\n",
       "      <td>4</td>\n",
       "      <td>0.0042</td>\n",
       "      <td>0.0000</td>\n",
       "      <td>100.0</td>\n",
       "      <td>518.67</td>\n",
       "      <td>642.44</td>\n",
       "      <td>1584.12</td>\n",
       "      <td>1406.42</td>\n",
       "      <td>14.62</td>\n",
       "      <td>...</td>\n",
       "      <td>521.38</td>\n",
       "      <td>2388.05</td>\n",
       "      <td>8132.90</td>\n",
       "      <td>8.3917</td>\n",
       "      <td>0.03</td>\n",
       "      <td>391</td>\n",
       "      <td>2388</td>\n",
       "      <td>100.0</td>\n",
       "      <td>39.00</td>\n",
       "      <td>23.3737</td>\n",
       "    </tr>\n",
       "    <tr>\n",
       "      <th>4</th>\n",
       "      <td>1</td>\n",
       "      <td>5</td>\n",
       "      <td>0.0014</td>\n",
       "      <td>0.0000</td>\n",
       "      <td>100.0</td>\n",
       "      <td>518.67</td>\n",
       "      <td>642.51</td>\n",
       "      <td>1587.19</td>\n",
       "      <td>1401.92</td>\n",
       "      <td>14.62</td>\n",
       "      <td>...</td>\n",
       "      <td>522.15</td>\n",
       "      <td>2388.03</td>\n",
       "      <td>8129.54</td>\n",
       "      <td>8.4031</td>\n",
       "      <td>0.03</td>\n",
       "      <td>390</td>\n",
       "      <td>2388</td>\n",
       "      <td>100.0</td>\n",
       "      <td>38.99</td>\n",
       "      <td>23.4130</td>\n",
       "    </tr>\n",
       "  </tbody>\n",
       "</table>\n",
       "<p>5 rows × 26 columns</p>\n",
       "</div>"
      ],
      "text/plain": [
       "   unit  cycle     op1     op2    op3     sm1     sm2      sm3      sm4  \\\n",
       "0     1      1  0.0023  0.0003  100.0  518.67  643.02  1585.29  1398.21   \n",
       "1     1      2 -0.0027 -0.0003  100.0  518.67  641.71  1588.45  1395.42   \n",
       "2     1      3  0.0003  0.0001  100.0  518.67  642.46  1586.94  1401.34   \n",
       "3     1      4  0.0042  0.0000  100.0  518.67  642.44  1584.12  1406.42   \n",
       "4     1      5  0.0014  0.0000  100.0  518.67  642.51  1587.19  1401.92   \n",
       "\n",
       "     sm5  ...    sm12     sm13     sm14    sm15  sm16  sm17  sm18   sm19  \\\n",
       "0  14.62  ...  521.72  2388.03  8125.55  8.4052  0.03   392  2388  100.0   \n",
       "1  14.62  ...  522.16  2388.06  8139.62  8.3803  0.03   393  2388  100.0   \n",
       "2  14.62  ...  521.97  2388.03  8130.10  8.4441  0.03   393  2388  100.0   \n",
       "3  14.62  ...  521.38  2388.05  8132.90  8.3917  0.03   391  2388  100.0   \n",
       "4  14.62  ...  522.15  2388.03  8129.54  8.4031  0.03   390  2388  100.0   \n",
       "\n",
       "    sm20     sm21  \n",
       "0  38.86  23.3735  \n",
       "1  39.02  23.3916  \n",
       "2  39.08  23.4166  \n",
       "3  39.00  23.3737  \n",
       "4  38.99  23.4130  \n",
       "\n",
       "[5 rows x 26 columns]"
      ]
     },
     "execution_count": 86,
     "metadata": {},
     "output_type": "execute_result"
    }
   ],
   "source": [
    "test.head()"
   ]
  },
  {
   "cell_type": "code",
   "execution_count": 77,
   "metadata": {},
   "outputs": [],
   "source": [
    "# taking log of y values\n",
    "y_test = np.log(RUL)"
   ]
  },
  {
   "cell_type": "code",
   "execution_count": 78,
   "metadata": {},
   "outputs": [],
   "source": [
    "#test_grp = train[\"cycle\"].groupby(test[\"unit\"])\n",
    "#test_rul_lst = [j for i in test[\"unit\"].unique() for j in np.array(test_grp.get_group(i)[::-1])]\n"
   ]
  },
  {
   "cell_type": "code",
   "execution_count": 90,
   "metadata": {},
   "outputs": [
    {
     "data": {
      "text/html": [
       "<div>\n",
       "<style scoped>\n",
       "    .dataframe tbody tr th:only-of-type {\n",
       "        vertical-align: middle;\n",
       "    }\n",
       "\n",
       "    .dataframe tbody tr th {\n",
       "        vertical-align: top;\n",
       "    }\n",
       "\n",
       "    .dataframe thead th {\n",
       "        text-align: right;\n",
       "    }\n",
       "</style>\n",
       "<table border=\"1\" class=\"dataframe\">\n",
       "  <thead>\n",
       "    <tr style=\"text-align: right;\">\n",
       "      <th></th>\n",
       "      <th>0</th>\n",
       "      <th>1</th>\n",
       "      <th>2</th>\n",
       "      <th>3</th>\n",
       "      <th>4</th>\n",
       "      <th>5</th>\n",
       "      <th>6</th>\n",
       "      <th>7</th>\n",
       "      <th>8</th>\n",
       "      <th>9</th>\n",
       "      <th>10</th>\n",
       "    </tr>\n",
       "  </thead>\n",
       "  <tbody>\n",
       "    <tr>\n",
       "      <th>0</th>\n",
       "      <td>-0.330564</td>\n",
       "      <td>-0.253382</td>\n",
       "      <td>-0.078112</td>\n",
       "      <td>-0.013062</td>\n",
       "      <td>-0.131955</td>\n",
       "      <td>-0.198630</td>\n",
       "      <td>-0.038849</td>\n",
       "      <td>0.006940</td>\n",
       "      <td>0.035415</td>\n",
       "      <td>-0.066983</td>\n",
       "      <td>-0.067194</td>\n",
       "    </tr>\n",
       "    <tr>\n",
       "      <th>1</th>\n",
       "      <td>-0.513213</td>\n",
       "      <td>0.246559</td>\n",
       "      <td>-0.014673</td>\n",
       "      <td>-0.054873</td>\n",
       "      <td>0.153201</td>\n",
       "      <td>0.153750</td>\n",
       "      <td>-0.026192</td>\n",
       "      <td>0.019489</td>\n",
       "      <td>-0.104102</td>\n",
       "      <td>-0.089667</td>\n",
       "      <td>-0.003584</td>\n",
       "    </tr>\n",
       "    <tr>\n",
       "      <th>2</th>\n",
       "      <td>-0.317142</td>\n",
       "      <td>-0.086241</td>\n",
       "      <td>-0.040033</td>\n",
       "      <td>-0.030177</td>\n",
       "      <td>-0.017871</td>\n",
       "      <td>-0.034501</td>\n",
       "      <td>-0.026490</td>\n",
       "      <td>-0.076152</td>\n",
       "      <td>-0.103111</td>\n",
       "      <td>0.122481</td>\n",
       "      <td>-0.006456</td>\n",
       "    </tr>\n",
       "    <tr>\n",
       "      <th>3</th>\n",
       "      <td>-0.375733</td>\n",
       "      <td>-0.005388</td>\n",
       "      <td>-0.104104</td>\n",
       "      <td>-0.009910</td>\n",
       "      <td>-0.242595</td>\n",
       "      <td>-0.052442</td>\n",
       "      <td>-0.008140</td>\n",
       "      <td>0.036093</td>\n",
       "      <td>0.044614</td>\n",
       "      <td>-0.020611</td>\n",
       "      <td>0.144782</td>\n",
       "    </tr>\n",
       "    <tr>\n",
       "      <th>4</th>\n",
       "      <td>-0.467751</td>\n",
       "      <td>-0.005154</td>\n",
       "      <td>-0.085730</td>\n",
       "      <td>-0.023812</td>\n",
       "      <td>-0.082489</td>\n",
       "      <td>-0.073847</td>\n",
       "      <td>-0.099955</td>\n",
       "      <td>0.017419</td>\n",
       "      <td>0.118853</td>\n",
       "      <td>0.026453</td>\n",
       "      <td>0.055897</td>\n",
       "    </tr>\n",
       "  </tbody>\n",
       "</table>\n",
       "</div>"
      ],
      "text/plain": [
       "          0         1         2         3         4         5         6  \\\n",
       "0 -0.330564 -0.253382 -0.078112 -0.013062 -0.131955 -0.198630 -0.038849   \n",
       "1 -0.513213  0.246559 -0.014673 -0.054873  0.153201  0.153750 -0.026192   \n",
       "2 -0.317142 -0.086241 -0.040033 -0.030177 -0.017871 -0.034501 -0.026490   \n",
       "3 -0.375733 -0.005388 -0.104104 -0.009910 -0.242595 -0.052442 -0.008140   \n",
       "4 -0.467751 -0.005154 -0.085730 -0.023812 -0.082489 -0.073847 -0.099955   \n",
       "\n",
       "          7         8         9        10  \n",
       "0  0.006940  0.035415 -0.066983 -0.067194  \n",
       "1  0.019489 -0.104102 -0.089667 -0.003584  \n",
       "2 -0.076152 -0.103111  0.122481 -0.006456  \n",
       "3  0.036093  0.044614 -0.020611  0.144782  \n",
       "4  0.017419  0.118853  0.026453  0.055897  "
      ]
     },
     "execution_count": 90,
     "metadata": {},
     "output_type": "execute_result"
    }
   ],
   "source": [
    "# Test Data with PCA (fit on training data) applied \n",
    "test_df.head()"
   ]
  },
  {
   "cell_type": "code",
   "execution_count": 80,
   "metadata": {},
   "outputs": [],
   "source": [
    "# predict remaining useful life\n",
    "y_hat_test = reg.predict(test_df)\n",
    "\n",
    "#make predictions into a dataframe\n",
    "y_hat_test = pd.DataFrame(y_hat_test)\n",
    "\n",
    "# add unit column back in so that we know which predictions go with which unit\n",
    "y_hat_test.insert(0, \"unit\", test[\"unit\"])"
   ]
  },
  {
   "cell_type": "code",
   "execution_count": 81,
   "metadata": {},
   "outputs": [
    {
     "data": {
      "image/png": "[encoded data removed]",
      "text/plain": [
       "<Figure size 432x288 with 1 Axes>"
      ]
     },
     "metadata": {
      "needs_background": "light"
     },
     "output_type": "display_data"
    }
   ],
   "source": [
    "_ = plt.plot(y_hat_test[0][0:400])"
   ]
  },
  {
   "cell_type": "code",
   "execution_count": 82,
   "metadata": {},
   "outputs": [],
   "source": [
    "rul_pred = []\n",
    "\n",
    "# loop through all units\n",
    "for each in range(1,101):\n",
    "    # get data for one unit at a time\n",
    "    unit_data = y_hat_test[y_hat_test[\"unit\"] == each]\n",
    "    \n",
    "    # get last prediction for that unit and add it to the list of predictions\n",
    "    rul_pred.append(unit_data.tail(1).iloc[0][0])\n",
    "rul_pred = pd.DataFrame(rul_pred)"
   ]
  },
  {
   "cell_type": "code",
   "execution_count": 83,
   "metadata": {},
   "outputs": [
    {
     "data": {
      "text/html": [
       "<div>\n",
       "<style scoped>\n",
       "    .dataframe tbody tr th:only-of-type {\n",
       "        vertical-align: middle;\n",
       "    }\n",
       "\n",
       "    .dataframe tbody tr th {\n",
       "        vertical-align: top;\n",
       "    }\n",
       "\n",
       "    .dataframe thead th {\n",
       "        text-align: right;\n",
       "    }\n",
       "</style>\n",
       "<table border=\"1\" class=\"dataframe\">\n",
       "  <thead>\n",
       "    <tr style=\"text-align: right;\">\n",
       "      <th></th>\n",
       "      <th>0</th>\n",
       "    </tr>\n",
       "  </thead>\n",
       "  <tbody>\n",
       "    <tr>\n",
       "      <th>0</th>\n",
       "      <td>5.276372</td>\n",
       "    </tr>\n",
       "    <tr>\n",
       "      <th>1</th>\n",
       "      <td>4.661821</td>\n",
       "    </tr>\n",
       "    <tr>\n",
       "      <th>2</th>\n",
       "      <td>4.047469</td>\n",
       "    </tr>\n",
       "    <tr>\n",
       "      <th>3</th>\n",
       "      <td>4.276243</td>\n",
       "    </tr>\n",
       "    <tr>\n",
       "      <th>4</th>\n",
       "      <td>4.430838</td>\n",
       "    </tr>\n",
       "  </tbody>\n",
       "</table>\n",
       "</div>"
      ],
      "text/plain": [
       "          0\n",
       "0  5.276372\n",
       "1  4.661821\n",
       "2  4.047469\n",
       "3  4.276243\n",
       "4  4.430838"
      ]
     },
     "execution_count": 83,
     "metadata": {},
     "output_type": "execute_result"
    }
   ],
   "source": [
    "rul_pred.head()"
   ]
  },
  {
   "cell_type": "code",
   "execution_count": 84,
   "metadata": {},
   "outputs": [
    {
     "name": "stdout",
     "output_type": "stream",
     "text": [
      "Training Cross Validation Score:  [0.47533422 0.82207707 0.66695714 0.80961257 0.80561609]\n",
      "Validation Cross Validation Score:  [0.47533422 0.82207707 0.66695714 0.80961257 0.80561609]\n",
      "Validation R^2:  0.7423429266648431\n",
      "Validation MSE:  0.18018159916559606\n"
     ]
    }
   ],
   "source": [
    "print('Training Cross Validation Score: ', cross_val_score(reg, rul_pred, y_test, cv=5))\n",
    "print('Validation Cross Validation Score: ', cross_val_score(reg, rul_pred, y_test, cv=5))\n",
    "print('Validation R^2: ', r2_score(y_test, rul_pred))\n",
    "print('Validation MSE: ', mean_squared_error(y_test, rul_pred))"
   ]
  },
  {
   "cell_type": "code",
   "execution_count": 85,
   "metadata": {},
   "outputs": [
    {
     "data": {
      "image/png": "[encoded data removed]",
      "text/plain": [
       "<Figure size 432x288 with 1 Axes>"
      ]
     },
     "metadata": {
      "needs_background": "light"
     },
     "output_type": "display_data"
    }
   ],
   "source": [
    "_ = plt.scatter(rul_pred, y_test)\n",
    "_ = plt.plot([0, 6], [0, 6], \"r\")\n",
    "_ = plt.xlabel(\"Predicted Log of Remaining Useful Life\")\n",
    "_ = plt.ylabel(\"True Log of Remaining Useful Life\")"
   ]
  }
 ],
 "metadata": {
  "kernelspec": {
   "display_name": "Python 3",
   "language": "python",
   "name": "python3"
  },
  "language_info": {
   "codemirror_mode": {
    "name": "ipython",
    "version": 3
   },
   "file_extension": ".py",
   "mimetype": "text/x-python",
   "name": "python",
   "nbconvert_exporter": "python",
   "pygments_lexer": "ipython3",
   "version": "3.8.3"
  }
 },
 "nbformat": 4,
 "nbformat_minor": 4
}
